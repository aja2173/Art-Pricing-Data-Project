{
 "cells": [
  {
   "cell_type": "code",
   "execution_count": 16,
   "metadata": {},
   "outputs": [
    {
     "name": "stdout",
     "output_type": "stream",
     "text": [
      "[\"Rembrandt Harmensz. van Rijn\", \"Louis Marcoussis\", \"Joan Mir\\u00f3\", \"Pablo Picasso\", \"Marc Chagall\"]\n",
      "[\"Christ at Emmaus: The smaller Plate\", \"La Table\", \"Femme et Chien devant la Lune\", \"Quatre Femmes nues et T\\u00eate sculpt\\u00e9e, from: La Suite Vollard\", \"Self-Portrait\"]\n"
     ]
    }
   ],
   "source": [
    "#First part\n",
    "import os\n",
    "import json\n",
    "import codecs\n",
    "#Get all the files in the directory\n",
    "data_path = 'data/2015-03-18'\n",
    "files = os.listdir(data_path)\n",
    "names = []\n",
    "titles = []\n",
    "#Parse through the files\n",
    "for filename in files:\n",
    "    file_path = data_path + '/' + filename\n",
    "    with codecs.open(file_path,'r', encoding = 'utf-8') as file:\n",
    "        prev_line = ''\n",
    "        for line in file:\n",
    "            if '<title>' in prev_line:\n",
    "                titleline = line.lstrip()\n",
    "                for i in range(len(titleline)):\n",
    "                    c = titleline[i]\n",
    "                    if c == ':':\n",
    "                        break\n",
    "                name = titleline[:i]\n",
    "                title = titleline[i+2:-1]\n",
    "                break\n",
    "            prev_line = line\n",
    "        names.append(name)\n",
    "        titles.append(title)\n",
    "\n",
    "names = json.dumps(names,ensure_ascii = 'False')\n",
    "titles = json.dumps(titles)\n",
    "\n",
    "output = [{'artist': artist, 'works': title} for artist, title in zip(names,titles)]\n",
    "\n"
   ]
  },
  {
   "cell_type": "code",
   "execution_count": null,
   "metadata": {},
   "outputs": [],
   "source": []
  }
 ],
 "metadata": {
  "kernelspec": {
   "display_name": "Python 3",
   "language": "python",
   "name": "python3"
  },
  "language_info": {
   "codemirror_mode": {
    "name": "ipython",
    "version": 3
   },
   "file_extension": ".py",
   "mimetype": "text/x-python",
   "name": "python",
   "nbconvert_exporter": "python",
   "pygments_lexer": "ipython3",
   "version": "3.6.3"
  }
 },
 "nbformat": 4,
 "nbformat_minor": 2
}
