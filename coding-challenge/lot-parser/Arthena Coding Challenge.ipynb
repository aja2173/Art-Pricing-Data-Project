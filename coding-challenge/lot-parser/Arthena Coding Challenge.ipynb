{
 "cells": [
  {
   "cell_type": "code",
   "execution_count": 21,
   "metadata": {},
   "outputs": [
    {
     "name": "stdout",
     "output_type": "stream",
     "text": [
      "[{\"artist\": \"Rembrandt Harmensz. van Rijn\", \"works\": \"Christ at Emmaus: The smaller Plate\"}, {\"artist\": \"Louis Marcoussis\", \"works\": \"La Table\"}, {\"artist\": \"Joan Mir\\u00f3\", \"works\": \"Femme et Chien devant la Lune\"}, {\"artist\": \"Pablo Picasso\", \"works\": \"Quatre Femmes nues et T\\u00eate sculpt\\u00e9e, from: La Suite Vollard\"}, {\"artist\": \"Marc Chagall\", \"works\": \"Self-Portrait\"}]\n",
      "['6875', '9200', '11250', '25000', '6000']\n"
     ]
    }
   ],
   "source": [
    "#First part\n",
    "import os\n",
    "import json\n",
    "import codecs\n",
    "#Get all the files in the directory\n",
    "data_path = 'data/2015-03-18'\n",
    "files = os.listdir(data_path)\n",
    "names = []\n",
    "titles = []\n",
    "prices = []\n",
    "#Parse through the files\n",
    "for filename in files:\n",
    "    file_path = data_path + '/' + filename\n",
    "    with codecs.open(file_path,'r', encoding = 'utf-8') as file:\n",
    "        prev_line = ''\n",
    "        for line in file:\n",
    "            if '<title>' in prev_line: #getting the title and artist\n",
    "                titleline = line.lstrip()\n",
    "                for i in range(len(titleline)):\n",
    "                    c = titleline[i]\n",
    "                    if c == ':': #colon seperates title and artist\n",
    "                        break\n",
    "                name = titleline[:i]\n",
    "                title = titleline[i+2:-1]\n",
    "                \n",
    "            if 'Price realised' in prev_line: # getting the price\n",
    "                priceline = line.lstrip()\n",
    "                price = ''.join(c for c in priceline if c.isdigit())\n",
    "                \n",
    "            prev_line = line\n",
    "        \n",
    "        #Store the values for this html file\n",
    "        names.append(name)\n",
    "        titles.append(title)\n",
    "        prices.append(price)\n",
    "\n",
    "works = [{'title': title, 'price': price} for title, ]        \n",
    "output = [{'artist': artist, 'works': title} for artist, title in zip(names,titles)]\n",
    "\n",
    "output = json.dumps(output)\n",
    "print(output)\n",
    "print(prices)"
   ]
  },
  {
   "cell_type": "code",
   "execution_count": null,
   "metadata": {},
   "outputs": [],
   "source": []
  }
 ],
 "metadata": {
  "kernelspec": {
   "display_name": "Python 3",
   "language": "python",
   "name": "python3"
  },
  "language_info": {
   "codemirror_mode": {
    "name": "ipython",
    "version": 3
   },
   "file_extension": ".py",
   "mimetype": "text/x-python",
   "name": "python",
   "nbconvert_exporter": "python",
   "pygments_lexer": "ipython3",
   "version": "3.6.3"
  }
 },
 "nbformat": 4,
 "nbformat_minor": 2
}
