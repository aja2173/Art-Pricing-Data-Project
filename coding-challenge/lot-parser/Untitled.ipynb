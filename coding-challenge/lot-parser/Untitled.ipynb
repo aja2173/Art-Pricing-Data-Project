{
 "cells": [
  {
   "cell_type": "code",
   "execution_count": 20,
   "metadata": {},
   "outputs": [
    {
     "name": "stdout",
     "output_type": "stream",
     "text": [
      "[\"Rembrandt Harmensz. van Rijn\", \"Louis Marcoussis\", \"Joan Mir\\u00c3\\u00b3\", \"Pablo Picasso\", \"Marc Chagall\"]\n"
     ]
    }
   ],
   "source": [
    "import os\n",
    "import json\n",
    "#Get all the files in the directory\n",
    "data_path = 'data/2015-03-18'\n",
    "files = os.listdir(data_path)\n",
    "names = []\n",
    "\n",
    "#Parse through the files\n",
    "for filename in files:\n",
    "    file_path = data_path + '/' + filename\n",
    "    with open(file_path,'r+', encoding = 'latin-1') as file:\n",
    "        prev_line = ''\n",
    "        for line in file:\n",
    "            if '<title>' in prev_line:\n",
    "                title = line.lstrip()\n",
    "                for i in range(len(title)):\n",
    "                    c = title[i]\n",
    "                    if c == ':':\n",
    "                        break\n",
    "                name = title[:i]\n",
    "                break\n",
    "            prev_line = line\n",
    "        names.append(name)\n",
    "\n",
    "names = json.dumps(names)\n",
    "print(names)"
   ]
  },
  {
   "cell_type": "code",
   "execution_count": null,
   "metadata": {},
   "outputs": [],
   "source": []
  }
 ],
 "metadata": {
  "kernelspec": {
   "display_name": "Python 3",
   "language": "python",
   "name": "python3"
  },
  "language_info": {
   "codemirror_mode": {
    "name": "ipython",
    "version": 3
   },
   "file_extension": ".py",
   "mimetype": "text/x-python",
   "name": "python",
   "nbconvert_exporter": "python",
   "pygments_lexer": "ipython3",
   "version": "3.6.3"
  }
 },
 "nbformat": 4,
 "nbformat_minor": 2
}
